{
 "cells": [
  {
   "cell_type": "code",
   "execution_count": 2,
   "id": "63ba9526",
   "metadata": {},
   "outputs": [
    {
     "name": "stdout",
     "output_type": "stream",
     "text": [
      "Hello World"
     ]
    },
    {
     "data": {
      "text/plain": [
       "Int32"
      ]
     },
     "execution_count": 2,
     "metadata": {},
     "output_type": "execute_result"
    }
   ],
   "source": [
    "print(\"Hello World\")\n",
    "typeof(2)"
   ]
  },
  {
   "cell_type": "code",
   "execution_count": 1,
   "id": "87054091",
   "metadata": {},
   "outputs": [
    {
     "name": "stdout",
     "output_type": "stream",
     "text": [
      "throatwarbler\n",
      "throatthroatthroat\n",
      "throatwarblerthroatthroatthroat"
     ]
    },
    {
     "data": {
      "text/plain": [
       "2"
      ]
     },
     "execution_count": 1,
     "metadata": {},
     "output_type": "execute_result"
    }
   ],
   "source": [
    "first_str = \"throat\"\n",
    "second_str = \"warbler\"\n",
    "println(first_str * second_str)\n",
    "println(first_str^3)\n",
    "print(first_str * second_str) #end = '' by default\n",
    "print(first_str^3)\n",
    "1+1"
   ]
  },
  {
   "cell_type": "code",
   "execution_count": 13,
   "id": "3dfe7453",
   "metadata": {
    "scrolled": true
   },
   "outputs": [
    {
     "data": {
      "text/plain": [
       "3.14159"
      ]
     },
     "execution_count": 13,
     "metadata": {},
     "output_type": "execute_result"
    }
   ],
   "source": [
    "parse(Float64, \"3.14159\")"
   ]
  },
  {
   "cell_type": "code",
   "execution_count": 12,
   "id": "6b00b998",
   "metadata": {},
   "outputs": [
    {
     "data": {
      "text/plain": [
       "3.14159f0"
      ]
     },
     "execution_count": 12,
     "metadata": {},
     "output_type": "execute_result"
    }
   ],
   "source": [
    "parse(Float32, \"3.14159\")"
   ]
  },
  {
   "cell_type": "code",
   "execution_count": 16,
   "id": "58ef9e27",
   "metadata": {},
   "outputs": [
    {
     "name": "stdout",
     "output_type": "stream",
     "text": [
      "3\n",
      "-2\n"
     ]
    }
   ],
   "source": [
    "println(trunc(Int64, 3.99999))\n",
    "println(trunc(Int64, -2.3))"
   ]
  },
  {
   "cell_type": "code",
   "execution_count": 19,
   "id": "d1df643f",
   "metadata": {},
   "outputs": [
    {
     "data": {
      "text/plain": [
       "0.644217687237691"
      ]
     },
     "execution_count": 19,
     "metadata": {},
     "output_type": "execute_result"
    }
   ],
   "source": [
    "π #\\pi + tab\n",
    "radians = 0.7\n",
    "height = sin(radians)"
   ]
  },
  {
   "cell_type": "code",
   "execution_count": 20,
   "id": "02304853",
   "metadata": {},
   "outputs": [
    {
     "data": {
      "text/plain": [
       "0.7071067811865476"
      ]
     },
     "execution_count": 20,
     "metadata": {},
     "output_type": "execute_result"
    }
   ],
   "source": [
    "√2/2"
   ]
  },
  {
   "cell_type": "code",
   "execution_count": 25,
   "id": "5cbd532f",
   "metadata": {},
   "outputs": [
    {
     "name": "stdout",
     "output_type": "stream",
     "text": [
      "I'm a lumberjack, and I'm okay.\n",
      "I sleep all night and I work all day.\n",
      "I'm a lumberjack, and I'm okay.\n",
      "I sleep all night and I work all day.\n"
     ]
    }
   ],
   "source": [
    "function printlyrics()\n",
    "  println(\"I'm a lumberjack, and I'm okay.\")\n",
    "  println(\"I sleep all night and I work all day.\")\n",
    "end\n",
    "\n",
    "function repeatlyrics()\n",
    "  printlyrics()\n",
    "  printlyrics()\n",
    "end\n",
    "\n",
    "function printtwice(bruce)\n",
    "  println(bruce)\n",
    "  println(bruce)\n",
    "end\n",
    "#=\n",
    "function cattwice(part1, part2)\n",
    "  concat = part1 * part2\n",
    "  printtwice(concat)\n",
    "end\n",
    "=#\n",
    "\n",
    "repeatlyrics()"
   ]
  },
  {
   "cell_type": "code",
   "execution_count": 6,
   "id": "304e6b10",
   "metadata": {
    "scrolled": true
   },
   "outputs": [
    {
     "name": "stdout",
     "output_type": "stream",
     "text": [
      "true\n",
      "false\n",
      "false\n"
     ]
    }
   ],
   "source": [
    "println(5 == 4 || 5 == 5) #(or operator)\n",
    "println(5 == 4 && 5 == 5) #(and operator)\n",
    "println(!(5 > 4)) #(not operator)"
   ]
  },
  {
   "cell_type": "code",
   "execution_count": 7,
   "id": "f857ef1d",
   "metadata": {},
   "outputs": [
    {
     "name": "stdout",
     "output_type": "stream",
     "text": [
      "x is odd\n"
     ]
    }
   ],
   "source": [
    "x = 5\n",
    "\n",
    "if x % 2 == 0\n",
    "    println(\"x is even\")\n",
    "else\n",
    "    println(\"x is odd\")\n",
    "end"
   ]
  },
  {
   "cell_type": "code",
   "execution_count": 8,
   "id": "f7fc13d4",
   "metadata": {},
   "outputs": [
    {
     "name": "stdout",
     "output_type": "stream",
     "text": [
      "x is less than y\n"
     ]
    }
   ],
   "source": [
    "x = 6\n",
    "y = 7\n",
    "\n",
    "if x < y\n",
    "    println(\"x is less than y\")\n",
    "elseif x > y\n",
    "    println(\"x is greater than y\")\n",
    "else\n",
    "    println(\"x and y are equal\")\n",
    "end"
   ]
  },
  {
   "cell_type": "code",
   "execution_count": 9,
   "id": "d2cf9512",
   "metadata": {
    "scrolled": true
   },
   "outputs": [
    {
     "name": "stdout",
     "output_type": "stream",
     "text": [
      "stdin> hello\n"
     ]
    },
    {
     "data": {
      "text/plain": [
       "\"hello\""
      ]
     },
     "execution_count": 9,
     "metadata": {},
     "output_type": "execute_result"
    }
   ],
   "source": [
    "text = readline()"
   ]
  },
  {
   "cell_type": "code",
   "execution_count": 11,
   "id": "571a9476",
   "metadata": {
    "scrolled": true
   },
   "outputs": [
    {
     "name": "stdout",
     "output_type": "stream",
     "text": [
      "What...is the airspeed velocity of an unladen swallow?\n",
      "stdin> 15\n"
     ]
    },
    {
     "data": {
      "text/plain": [
       "15"
      ]
     },
     "execution_count": 11,
     "metadata": {},
     "output_type": "execute_result"
    }
   ],
   "source": [
    "println(\"What...is the airspeed velocity of an unladen swallow?\"); speed = parse(Int64, readline())"
   ]
  },
  {
   "cell_type": "code",
   "execution_count": 12,
   "id": "ab07ed65",
   "metadata": {},
   "outputs": [
    {
     "data": {
      "text/plain": [
       "1.632336249062e9"
      ]
     },
     "execution_count": 12,
     "metadata": {},
     "output_type": "execute_result"
    }
   ],
   "source": [
    "time()"
   ]
  },
  {
   "cell_type": "code",
   "execution_count": 20,
   "id": "21878dff",
   "metadata": {},
   "outputs": [
    {
     "data": {
      "text/plain": [
       "5"
      ]
     },
     "execution_count": 20,
     "metadata": {},
     "output_type": "execute_result"
    }
   ],
   "source": [
    "function absvalue(x)\n",
    "    if x < 0\n",
    "        return -x\n",
    "    else\n",
    "        return x\n",
    "    end\n",
    "end\n",
    "\n",
    "absvalue(-5)"
   ]
  },
  {
   "cell_type": "code",
   "execution_count": 27,
   "id": "08c9897d",
   "metadata": {},
   "outputs": [
    {
     "name": "stdout",
     "output_type": "stream",
     "text": [
      "d² = 25\n"
     ]
    },
    {
     "data": {
      "text/plain": [
       "5.0"
      ]
     },
     "execution_count": 27,
     "metadata": {},
     "output_type": "execute_result"
    }
   ],
   "source": [
    "function distance(x₁, y₁, x₂, y₂)\n",
    "    dx = x₂ - x₁\n",
    "    dy = y₂ - y₁\n",
    "    d² = dx^2 + dy^2\n",
    "    @show d²\n",
    "    sqrt(d²)\n",
    "end\n",
    "\n",
    "distance(1, 2, 4, 6)"
   ]
  },
  {
   "cell_type": "code",
   "execution_count": 16,
   "id": "76911a5c",
   "metadata": {},
   "outputs": [
    {
     "name": "stdout",
     "output_type": "stream",
     "text": [
      "45\n"
     ]
    }
   ],
   "source": [
    "function recurse(n, s)\n",
    "    if n == 0\n",
    "        println(s)\n",
    "    else\n",
    "        recurse(n-1, n+s)\n",
    "    end\n",
    "end\n",
    "recurse(9, 0)"
   ]
  },
  {
   "cell_type": "code",
   "execution_count": 30,
   "id": "43fdaf86",
   "metadata": {},
   "outputs": [
    {
     "data": {
      "text/plain": [
       "120"
      ]
     },
     "execution_count": 30,
     "metadata": {},
     "output_type": "execute_result"
    }
   ],
   "source": [
    "function fact(n)\n",
    "    if !(n isa Int32)\n",
    "        error(\"Factorial is only defined for integers.\")\n",
    "    elseif n < 0\n",
    "        error(\"Factorial is not defined for negative integers.\")\n",
    "    elseif n == 0\n",
    "        return 1\n",
    "    else\n",
    "        return n * fact(n-1)\n",
    "    end\n",
    "end\n",
    "\n",
    "fact(5)"
   ]
  },
  {
   "cell_type": "code",
   "execution_count": 32,
   "id": "831da541",
   "metadata": {},
   "outputs": [
    {
     "name": "stdout",
     "output_type": "stream",
     "text": [
      "> stdin> not done\n",
      "not done\n",
      "> stdin> not done\n",
      "not done\n",
      "> stdin> done\n",
      "Done!\n"
     ]
    }
   ],
   "source": [
    "while true\n",
    "    print(\"> \")\n",
    "    line = readline()\n",
    "    if line == \"done\"\n",
    "        break\n",
    "    end\n",
    "    println(line)\n",
    "end\n",
    "println(\"Done!\")"
   ]
  },
  {
   "cell_type": "code",
   "execution_count": 33,
   "id": "d046d580",
   "metadata": {},
   "outputs": [
    {
     "name": "stdout",
     "output_type": "stream",
     "text": [
      "1 2 4 5 7 8 10 "
     ]
    }
   ],
   "source": [
    "for i in 1:10\n",
    "    if i % 3 == 0\n",
    "        continue #continue essentially breaks the code and forces the loop  to skip output\n",
    "    end\n",
    "    print(i, \" \")\n",
    "end"
   ]
  },
  {
   "cell_type": "code",
   "execution_count": 38,
   "id": "0852ecd5",
   "metadata": {
    "scrolled": true
   },
   "outputs": [
    {
     "name": "stdout",
     "output_type": "stream",
     "text": [
      "b\n",
      "n"
     ]
    }
   ],
   "source": [
    "fruit = \"banana\"\n",
    "print(fruit[1], '\\n', fruit[end-1])"
   ]
  },
  {
   "cell_type": "code",
   "execution_count": 41,
   "id": "bc485585",
   "metadata": {},
   "outputs": [
    {
     "name": "stdout",
     "output_type": "stream",
     "text": [
      "🍌\n",
      " \n",
      "🍎\n",
      " \n",
      "🍍\n",
      "🍌\n",
      " \n",
      "🍎\n",
      " \n",
      "🍍\n"
     ]
    }
   ],
   "source": [
    "fruits = \"🍌 🍎 🍍\"\n",
    "\n",
    "index = firstindex(fruits)\n",
    "while index <= sizeof(fruits)\n",
    "    letter = fruits[index]\n",
    "    println(letter)\n",
    "    global index = nextind(fruits, index)\n",
    "end\n",
    "\n",
    "for letter in fruits\n",
    "    println(letter)\n",
    "end"
   ]
  },
  {
   "cell_type": "code",
   "execution_count": 43,
   "id": "817f7c9d",
   "metadata": {},
   "outputs": [
    {
     "data": {
      "text/plain": [
       "\"Julius\""
      ]
     },
     "execution_count": 43,
     "metadata": {},
     "output_type": "execute_result"
    }
   ],
   "source": [
    "str = \"Julius Caesar\"; #Use semicolon to hide output\n",
    "str[1:6]"
   ]
  },
  {
   "cell_type": "code",
   "execution_count": 44,
   "id": "768619f1",
   "metadata": {},
   "outputs": [
    {
     "data": {
      "text/plain": [
       "\"Jello, world!\""
      ]
     },
     "execution_count": 44,
     "metadata": {},
     "output_type": "execute_result"
    }
   ],
   "source": [
    "greeting = \"Hello, world!\"\n",
    "greeting = \"J\" * greeting[2:end] #reassigning greeting[1] = \"J\" would not work since strings are immutable"
   ]
  },
  {
   "cell_type": "code",
   "execution_count": 45,
   "id": "a4795242",
   "metadata": {},
   "outputs": [
    {
     "data": {
      "text/plain": [
       "\"1 + 2 = 3\""
      ]
     },
     "execution_count": 45,
     "metadata": {},
     "output_type": "execute_result"
    }
   ],
   "source": [
    "\"1 + 2 = $(1 + 2)\" #f'{}' eqivalent of julia"
   ]
  },
  {
   "cell_type": "code",
   "execution_count": null,
   "id": "b5108a61",
   "metadata": {},
   "outputs": [],
   "source": [
    "#ordinary search loop\n",
    "function find(word, letter)\n",
    "    index = firstindex(word)\n",
    "    while index <= sizeof(word)\n",
    "        if word[index] == letter\n",
    "            return index\n",
    "        end\n",
    "        index = nextind(word, index)\n",
    "    end\n",
    "    -1\n",
    "end"
   ]
  },
  {
   "cell_type": "code",
   "execution_count": 46,
   "id": "3d1f3fad",
   "metadata": {},
   "outputs": [
    {
     "name": "stdout",
     "output_type": "stream",
     "text": [
      "3\n"
     ]
    }
   ],
   "source": [
    "word = \"banana\"\n",
    "counter = 0\n",
    "for letter in word\n",
    "    if letter == 'a'\n",
    "        global counter = counter + 1 #notice the prominent use of global here to refer to global variables\n",
    "    end\n",
    "end\n",
    "println(counter)"
   ]
  },
  {
   "cell_type": "code",
   "execution_count": null,
   "id": "58f39273",
   "metadata": {},
   "outputs": [],
   "source": []
  }
 ],
 "metadata": {
  "kernelspec": {
   "display_name": "Julia 1.6.2",
   "language": "julia",
   "name": "julia-1.6"
  },
  "language_info": {
   "file_extension": ".jl",
   "mimetype": "application/julia",
   "name": "julia",
   "version": "1.6.2"
  }
 },
 "nbformat": 4,
 "nbformat_minor": 5
}
