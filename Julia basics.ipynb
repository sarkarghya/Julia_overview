{
 "cells": [
  {
   "cell_type": "code",
   "execution_count": 2,
   "id": "63ba9526",
   "metadata": {},
   "outputs": [
    {
     "name": "stdout",
     "output_type": "stream",
     "text": [
      "Hello World"
     ]
    },
    {
     "data": {
      "text/plain": [
       "Int32"
      ]
     },
     "execution_count": 2,
     "metadata": {},
     "output_type": "execute_result"
    }
   ],
   "source": [
    "print(\"Hello World\")\n",
    "typeof(2)"
   ]
  },
  {
   "cell_type": "code",
   "execution_count": 1,
   "id": "87054091",
   "metadata": {},
   "outputs": [
    {
     "name": "stdout",
     "output_type": "stream",
     "text": [
      "throatwarbler\n",
      "throatthroatthroat\n",
      "throatwarblerthroatthroatthroat"
     ]
    },
    {
     "data": {
      "text/plain": [
       "2"
      ]
     },
     "execution_count": 1,
     "metadata": {},
     "output_type": "execute_result"
    }
   ],
   "source": [
    "first_str = \"throat\"\n",
    "second_str = \"warbler\"\n",
    "println(first_str * second_str)\n",
    "println(first_str^3)\n",
    "print(first_str * second_str) #end = '' by default\n",
    "print(first_str^3)\n",
    "1+1"
   ]
  },
  {
   "cell_type": "code",
   "execution_count": 13,
   "id": "3dfe7453",
   "metadata": {
    "scrolled": true
   },
   "outputs": [
    {
     "data": {
      "text/plain": [
       "3.14159"
      ]
     },
     "execution_count": 13,
     "metadata": {},
     "output_type": "execute_result"
    }
   ],
   "source": [
    "parse(Float64, \"3.14159\")"
   ]
  },
  {
   "cell_type": "code",
   "execution_count": 12,
   "id": "6b00b998",
   "metadata": {},
   "outputs": [
    {
     "data": {
      "text/plain": [
       "3.14159f0"
      ]
     },
     "execution_count": 12,
     "metadata": {},
     "output_type": "execute_result"
    }
   ],
   "source": [
    "parse(Float32, \"3.14159\")"
   ]
  },
  {
   "cell_type": "code",
   "execution_count": 16,
   "id": "58ef9e27",
   "metadata": {},
   "outputs": [
    {
     "name": "stdout",
     "output_type": "stream",
     "text": [
      "3\n",
      "-2\n"
     ]
    }
   ],
   "source": [
    "println(trunc(Int64, 3.99999))\n",
    "println(trunc(Int64, -2.3))"
   ]
  },
  {
   "cell_type": "code",
   "execution_count": 19,
   "id": "d1df643f",
   "metadata": {},
   "outputs": [
    {
     "data": {
      "text/plain": [
       "0.644217687237691"
      ]
     },
     "execution_count": 19,
     "metadata": {},
     "output_type": "execute_result"
    }
   ],
   "source": [
    "π #\\pi + tab\n",
    "radians = 0.7\n",
    "height = sin(radians)"
   ]
  },
  {
   "cell_type": "code",
   "execution_count": 20,
   "id": "02304853",
   "metadata": {},
   "outputs": [
    {
     "data": {
      "text/plain": [
       "0.7071067811865476"
      ]
     },
     "execution_count": 20,
     "metadata": {},
     "output_type": "execute_result"
    }
   ],
   "source": [
    "√2/2"
   ]
  },
  {
   "cell_type": "code",
   "execution_count": 25,
   "id": "5cbd532f",
   "metadata": {},
   "outputs": [
    {
     "name": "stdout",
     "output_type": "stream",
     "text": [
      "I'm a lumberjack, and I'm okay.\n",
      "I sleep all night and I work all day.\n",
      "I'm a lumberjack, and I'm okay.\n",
      "I sleep all night and I work all day.\n"
     ]
    }
   ],
   "source": [
    "function printlyrics()\n",
    "  println(\"I'm a lumberjack, and I'm okay.\")\n",
    "  println(\"I sleep all night and I work all day.\")\n",
    "end\n",
    "\n",
    "function repeatlyrics()\n",
    "  printlyrics()\n",
    "  printlyrics()\n",
    "end\n",
    "\n",
    "function printtwice(bruce)\n",
    "  println(bruce)\n",
    "  println(bruce)\n",
    "end\n",
    "#=\n",
    "function cattwice(part1, part2)\n",
    "  concat = part1 * part2\n",
    "  printtwice(concat)\n",
    "end\n",
    "=#\n",
    "\n",
    "repeatlyrics()"
   ]
  },
  {
   "cell_type": "code",
   "execution_count": null,
   "id": "304e6b10",
   "metadata": {},
   "outputs": [],
   "source": []
  },
  {
   "cell_type": "markdown",
   "id": "3ce6fb4a",
   "metadata": {},
   "source": [
    "# Pg 49"
   ]
  },
  {
   "cell_type": "code",
   "execution_count": null,
   "id": "76911a5c",
   "metadata": {},
   "outputs": [],
   "source": []
  }
 ],
 "metadata": {
  "kernelspec": {
   "display_name": "Julia 1.6.2",
   "language": "julia",
   "name": "julia-1.6"
  },
  "language_info": {
   "file_extension": ".jl",
   "mimetype": "application/julia",
   "name": "julia",
   "version": "1.6.2"
  }
 },
 "nbformat": 4,
 "nbformat_minor": 5
}
